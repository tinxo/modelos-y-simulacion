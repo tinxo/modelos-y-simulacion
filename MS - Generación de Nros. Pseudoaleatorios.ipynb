{
 "cells": [
  {
   "cell_type": "markdown",
   "metadata": {},
   "source": [
    "# Modelos y Simulación 2019 - FCEQyN - UNaM\n",
    "\n",
    "## Libreta Nro. 1 - Métodos de generación de números aleatorios"
   ]
  },
  {
   "cell_type": "code",
   "execution_count": 3,
   "metadata": {},
   "outputs": [],
   "source": [
    "#Funciones complementarias\n",
    "\n",
    "def verificarDobleCero(num):\n",
    "    numStr = str(num)\n",
    "    if (numStr[len(numStr) -1] == \"0\" and numStr[len(numStr) -2] == \"0\"):\n",
    "        #error\n",
    "        return False\n",
    "    else:\n",
    "        return True\n",
    "\n",
    "def obtenerDigitos(serie):\n",
    "    res = []\n",
    "    for num in serie:\n",
    "        num = str(num)\n",
    "        for digito in num:\n",
    "            res.append(int(digito))\n",
    "    return res\n",
    "\n",
    "def convertirBinario(serie):\n",
    "    res = []\n",
    "    for num in serie:\n",
    "        if (num <= 4):\n",
    "            res.append(0)\n",
    "        else:\n",
    "            res.append(1)\n",
    "    return res"
   ]
  },
  {
   "cell_type": "markdown",
   "metadata": {},
   "source": [
    "## Método de Von Neumann\n",
    "\n",
    "Consiste en:\n",
    "\n",
    "1. Tomar un número cualquiera de 4 (cuatro) dígitos y asignarlo al primer elemento (semilla) de la serie, x 1 .\n",
    "2. Elevarlo al cuadrado y completar 8 (ocho) cifras, si fuera necesario con ceros a la izquierda.\n",
    "3. Descartar los 2 (dos) primeros dígitos, al igual que los 2 (dos) últimos.\n",
    "4. Tomar los 4 (cuatro) dígitos centrales como elemento siguiente de la sucesión, x 2 .\n",
    "5. Repetir los pasos del 2 al 4 n veces, siendo n la cantidad de nros pseudoaleatorios a generar."
   ]
  },
  {
   "cell_type": "code",
   "execution_count": 4,
   "metadata": {},
   "outputs": [],
   "source": [
    "# Von Neumann\n",
    "def generadorVonNeumann(valorSemilla,cantidadGenerar):\n",
    "    serie = [valorSemilla]\n",
    "    while len(serie) < cantidadGenerar:\n",
    "        cuadrado = valorSemilla ** 2\n",
    "        ochoCifras = str(cuadrado)\n",
    "        while (len(ochoCifras) < 8):\n",
    "            #se debe completar con ceros a la izquierda\n",
    "            ochoCifras = \"0\" + ochoCifras\n",
    "        valorSemilla = int(ochoCifras[2:-2])\n",
    "        if not(verificarDobleCero(valorSemilla)):\n",
    "            #se suma un valor X al número para poder continuar con la generación\n",
    "            valorSemilla += 37\n",
    "        serie.append(valorSemilla)\n",
    "    return serie\n"
   ]
  },
  {
   "cell_type": "code",
   "execution_count": 5,
   "metadata": {},
   "outputs": [
    {
     "name": "stdout",
     "output_type": "stream",
     "text": [
      "Método de Von Neumann:\n",
      "Serie completa:  [3245, 5337, 4835, 3772, 2279, 1938, 7558, 1233, 5202, 608]\n",
      "Serie con números de un digito:  [3, 2, 4, 5, 5, 3, 3, 7, 4, 8, 3, 5, 3, 7, 7, 2, 2, 2, 7, 9, 1, 9, 3, 8, 7, 5, 5, 8, 1, 2, 3, 3, 5, 2, 0, 2, 6, 0, 8]\n",
      "---------------------------------\n"
     ]
    }
   ],
   "source": [
    "print(\"Método de Von Neumann:\")\n",
    "\n",
    "serieVonNeumann = generadorVonNeumann(3245,10)\n",
    "print(\"Serie completa: \", serieVonNeumann)\n",
    "\n",
    "serieUnidadVonNeumann = obtenerDigitos(serieVonNeumann)\n",
    "print(\"Serie con números de un digito: \", serieUnidadVonNeumann)\n",
    "\n",
    "print(\"---------------------------------\")"
   ]
  },
  {
   "cell_type": "markdown",
   "metadata": {},
   "source": [
    "## Método de Fibonacci\n",
    "\n",
    "![formula](img-fibonacci.png)\n",
    "\n",
    "Resulta conveniente:\n",
    "* Asignar números primos a los parámetros iniciales.\n",
    "* Tomar el valor de A mayor que el mayor de V1 y V2."
   ]
  },
  {
   "cell_type": "code",
   "execution_count": 6,
   "metadata": {},
   "outputs": [],
   "source": [
    "#Fibonacci\n",
    "def generadorFibonacci(v1, v2, ctrl, cantidadGenerar):    \n",
    "    serie = []\n",
    "    serie.append(v1)\n",
    "    serie.append(v2)\n",
    "\n",
    "    while (len(serie) <= cantidadGenerar):\n",
    "        if ((v1 + v2) <= ctrl):\n",
    "            v3 = v2 + v1 #k = 0\n",
    "        else:\n",
    "            v3 = v2 + v1 + ((-1) * ctrl)\n",
    "        serie.append(v3)\n",
    "        v1 = v2\n",
    "        v2 = v3\n",
    "    return serie"
   ]
  },
  {
   "cell_type": "code",
   "execution_count": 7,
   "metadata": {},
   "outputs": [
    {
     "name": "stdout",
     "output_type": "stream",
     "text": [
      "Método de Fibonacci:\n",
      "Serie completa:  [23, 67, 13, 3, 16, 19, 35, 54, 12, 66, 1]\n",
      "Serie con números de un digito:  [2, 3, 6, 7, 1, 3, 3, 1, 6, 1, 9, 3, 5, 5, 4, 1, 2, 6, 6, 1]\n",
      "---------------------------------\n"
     ]
    }
   ],
   "source": [
    "print(\"Método de Fibonacci:\")\n",
    "\n",
    "serieFibonacci = generadorFibonacci(23,67,77,10)\n",
    "print(\"Serie completa: \", serieFibonacci)\n",
    "\n",
    "serieUnidadFibonacci = obtenerDigitos(serieFibonacci)\n",
    "print(\"Serie con números de un digito: \", serieUnidadFibonacci)\n",
    "\n",
    "print(\"---------------------------------\")"
   ]
  },
  {
   "cell_type": "markdown",
   "metadata": {},
   "source": [
    "## Método de Congruencias\n",
    "\n",
    "### Variantes:\n",
    "\n",
    "#### Fundamental\n",
    "\n",
    "![formula](cong-fundamental.png)\n",
    "\n",
    "Restricciones:\n",
    "* Vi > 0, a > 0, c > 0, m > Vi , m > a, m > 0\n",
    "\n",
    "#### Aditivo\n",
    "\n",
    "![formula](cong-aditivo.png)\n",
    "\n",
    "* a = 1 | c = 1\n",
    "\n",
    "Restricciones:\n",
    "* k >= 16\n",
    "\n",
    "#### Multiplicativo\n",
    "\n",
    "![formula](cong-multiplicativo.png)\n",
    "\n",
    "* c = 0\n",
    "\n",
    "Restricciones:\n",
    "* semilla : entero impar, no divisible por 2 y 5, [relativamente primo](https://es.wikipedia.org/wiki/N%C3%BAmeros_coprimos) a m\n",
    "* a = 200 * t * p\n",
    "* t = cualquier entero\n",
    "* p = alguno de los siguientes 3, 11, 13, 19, 21, 27, 29, 37, 53, 59, 61, 67, 69, 77, 83, 91\n",
    "\n",
    "#### Mixto\n",
    "\n",
    "![formula](cong-mixto.png)\n",
    "\n",
    "Restricciones:\n",
    "* a : entero impar, no divisible por 3 o 5, puede ser: (2 * k) + 1 para binarios | (10 * k) + 1 para decimales\n",
    "* k >= 2\n",
    "* c = entero impar y [relativamente primo](https://es.wikipedia.org/wiki/N%C3%BAmeros_coprimos) a m\n",
    "* p = alguno de los siguientes 3, 11, 13, 19, 21, 27, 29, 37, 53, 59, 61, 67, 69, 77, 83, 91"
   ]
  },
  {
   "cell_type": "code",
   "execution_count": 8,
   "metadata": {},
   "outputs": [],
   "source": [
    "#Congruencias Fundamental\n",
    "def generadorCongruenciasFundamental(v1, v2, paramA, paramC, paramK, paramM, cantidadGenerar):\n",
    "    serie = []\n",
    "    # Se generan los K primeros digitos que después se van a descartar\n",
    "    for x in range(paramK):\n",
    "        v3 = (paramA * v1 + paramC * v2) % paramM\n",
    "        serie.append(v3)\n",
    "        v1 = v3\n",
    "    \n",
    "    # Se hace la generación que en realidad se va a usar\n",
    "    while (len(serie) <= cantidadGenerar + paramK):\n",
    "        v2 = serie[len(serie) - paramK]\n",
    "        v3 = (paramA * v1 + paramC * v2) % paramM\n",
    "        serie.append(v3)\n",
    "        v1 = v3\n",
    "\n",
    "    # Se recorta la serie según el parámetro K\n",
    "    serieResultado = serie[paramK:]\n",
    "    return serieResultado"
   ]
  },
  {
   "cell_type": "code",
   "execution_count": 9,
   "metadata": {},
   "outputs": [
    {
     "name": "stdout",
     "output_type": "stream",
     "text": [
      "Método de Congruencias: Relac. Fundamental\n",
      "Serie completa:  [241, 633, 822, 468, 163, 279, 600, 922, 685, 725, 778, 576, 807, 971, 356, 430, 33, 578, 360, 244, 41, 380, 140, 226, 673, 214, 896, 976, 729, 480, 828, 94, 601, 337, 171, 165, 38, 974, 902, 384, 791, 135, 413, 807, 868, 964, 296, 90, 693, 150, 383, 864, 826, 120, 906, 990, 763, 514, 401, 4, 936, 620, 468, 794, 881, 533, 328, 576, 966, 498, 852, 806, 407, 723, 912, 708, 572, 256, 972, 458, 557, 610, 774, 330, 408, 598, 910, 668, 685, 84, 388, 568, 180, 628, 960, 814, 613, 989, 129, 937, 75]\n",
      "Serie con números de un digito:  [2, 4, 1, 6, 3, 3, 8, 2, 2, 4, 6, 8, 1, 6, 3, 2, 7, 9, 6, 0, 0, 9, 2, 2, 6, 8, 5, 7, 2, 5, 7, 7, 8, 5, 7, 6, 8, 0, 7, 9, 7, 1, 3, 5, 6, 4, 3, 0, 3, 3, 5, 7, 8, 3, 6, 0, 2, 4, 4, 4, 1, 3, 8, 0, 1, 4, 0, 2, 2, 6, 6, 7, 3, 2, 1, 4, 8, 9, 6, 9, 7, 6, 7, 2, 9, 4, 8, 0, 8, 2, 8, 9, 4, 6, 0, 1, 3, 3, 7, 1, 7, 1, 1, 6, 5, 3, 8, 9, 7, 4, 9, 0, 2, 3, 8, 4, 7, 9, 1, 1, 3, 5, 4, 1, 3, 8, 0, 7, 8, 6, 8, 9, 6, 4, 2, 9, 6, 9, 0, 6, 9, 3, 1, 5, 0, 3, 8, 3, 8, 6, 4, 8, 2, 6, 1, 2, 0, 9, 0, 6, 9, 9, 0, 7, 6, 3, 5, 1, 4, 4, 0, 1, 4, 9, 3, 6, 6, 2, 0, 4, 6, 8, 7, 9, 4, 8, 8, 1, 5, 3, 3, 3, 2, 8, 5, 7, 6, 9, 6, 6, 4, 9, 8, 8, 5, 2, 8, 0, 6, 4, 0, 7, 7, 2, 3, 9, 1, 2, 7, 0, 8, 5, 7, 2, 2, 5, 6, 9, 7, 2, 4, 5, 8, 5, 5, 7, 6, 1, 0, 7, 7, 4, 3, 3, 0, 4, 0, 8, 5, 9, 8, 9, 1, 0, 6, 6, 8, 6, 8, 5, 8, 4, 3, 8, 8, 5, 6, 8, 1, 8, 0, 6, 2, 8, 9, 6, 0, 8, 1, 4, 6, 1, 3, 9, 8, 9, 1, 2, 9, 9, 3, 7, 7, 5]\n",
      "---------------------------------\n"
     ]
    }
   ],
   "source": [
    "print(\"Método de Congruencias: Relac. Fundamental\")\n",
    "\n",
    "v1 = 14\n",
    "v2 = 17\n",
    "paramA = 3243\n",
    "paramC = 23\n",
    "paramK = 16\n",
    "paramM = 1000\n",
    "cantidadGenerar = 100\n",
    "\n",
    "serieCongFundamental = generadorCongruenciasFundamental(v1, v2, paramA, paramC, paramK, paramM, cantidadGenerar)\n",
    "print(\"Serie completa: \", serieCongFundamental)\n",
    "\n",
    "serieUnidadCongFundamental = obtenerDigitos(serieCongFundamental)\n",
    "print(\"Serie con números de un digito: \", serieUnidadCongFundamental)\n",
    "\n",
    "print(\"---------------------------------\")"
   ]
  },
  {
   "cell_type": "code",
   "execution_count": 10,
   "metadata": {},
   "outputs": [],
   "source": [
    "#Congruencias Aditivo\n",
    "# paramA = 1\n",
    "# paramC = 1\n",
    "\n",
    "def generadorCongruenciasAditivo(v1, v2, paramK, paramM, cantidadGenerar):\n",
    "    serie = []\n",
    "    for x in range(paramK):\n",
    "        v3 = (v1 + v2) % paramM\n",
    "        serie.append(v3)\n",
    "        v1 = v3\n",
    "    while (len(serie) <= cantidadGenerar + paramK):\n",
    "        v2 = serie[len(serie) - paramK]\n",
    "        v3 = (v1 + v2) % paramM\n",
    "        serie.append(v3)\n",
    "        v1 = v3\n",
    "\n",
    "    serieResultado = serie[paramK:]\n",
    "    return serieResultado"
   ]
  },
  {
   "cell_type": "code",
   "execution_count": 11,
   "metadata": {},
   "outputs": [
    {
     "name": "stdout",
     "output_type": "stream",
     "text": [
      "Método de Congruencias: Aditivo\n",
      "Serie completa:  [775, 52, 346, 657, 985, 330, 692, 71, 467, 880, 310, 757, 221, 702, 200, 715, 490, 542, 888, 545, 530, 860, 552, 623, 90, 970, 280, 37, 258, 960, 160, 875, 365, 907, 795, 340, 870, 730, 282, 905, 995, 965, 245, 282, 540, 500, 660, 535, 900, 807, 602, 942, 812, 542, 824, 729, 724, 689, 934, 216, 756, 256, 916, 451, 351, 158, 760, 702, 514, 56, 880, 609, 333, 22, 956, 172, 928, 184, 100, 551, 902, 60, 820, 522, 36, 92, 972, 581, 914, 936, 892, 64, 992, 176, 276, 827, 729, 789, 609, 131, 167]\n",
      "Serie con números de un digito:  [7, 7, 5, 5, 2, 3, 4, 6, 6, 5, 7, 9, 8, 5, 3, 3, 0, 6, 9, 2, 7, 1, 4, 6, 7, 8, 8, 0, 3, 1, 0, 7, 5, 7, 2, 2, 1, 7, 0, 2, 2, 0, 0, 7, 1, 5, 4, 9, 0, 5, 4, 2, 8, 8, 8, 5, 4, 5, 5, 3, 0, 8, 6, 0, 5, 5, 2, 6, 2, 3, 9, 0, 9, 7, 0, 2, 8, 0, 3, 7, 2, 5, 8, 9, 6, 0, 1, 6, 0, 8, 7, 5, 3, 6, 5, 9, 0, 7, 7, 9, 5, 3, 4, 0, 8, 7, 0, 7, 3, 0, 2, 8, 2, 9, 0, 5, 9, 9, 5, 9, 6, 5, 2, 4, 5, 2, 8, 2, 5, 4, 0, 5, 0, 0, 6, 6, 0, 5, 3, 5, 9, 0, 0, 8, 0, 7, 6, 0, 2, 9, 4, 2, 8, 1, 2, 5, 4, 2, 8, 2, 4, 7, 2, 9, 7, 2, 4, 6, 8, 9, 9, 3, 4, 2, 1, 6, 7, 5, 6, 2, 5, 6, 9, 1, 6, 4, 5, 1, 3, 5, 1, 1, 5, 8, 7, 6, 0, 7, 0, 2, 5, 1, 4, 5, 6, 8, 8, 0, 6, 0, 9, 3, 3, 3, 2, 2, 9, 5, 6, 1, 7, 2, 9, 2, 8, 1, 8, 4, 1, 0, 0, 5, 5, 1, 9, 0, 2, 6, 0, 8, 2, 0, 5, 2, 2, 3, 6, 9, 2, 9, 7, 2, 5, 8, 1, 9, 1, 4, 9, 3, 6, 8, 9, 2, 6, 4, 9, 9, 2, 1, 7, 6, 2, 7, 6, 8, 2, 7, 7, 2, 9, 7, 8, 9, 6, 0, 9, 1, 3, 1, 1, 6, 7]\n",
      "---------------------------------\n"
     ]
    }
   ],
   "source": [
    "print(\"Método de Congruencias: Aditivo\")\n",
    "\n",
    "v1 = 3243\n",
    "v2 = 17\n",
    "paramK = 16\n",
    "paramM = 1000\n",
    "cantidadGenerar = 100\n",
    "\n",
    "serieCongAditivo = generadorCongruenciasAditivo(v1, v2, paramK, paramM, cantidadGenerar)\n",
    "print(\"Serie completa: \", serieCongAditivo)\n",
    "\n",
    "serieUnidadCongAditivo = obtenerDigitos(serieCongAditivo)\n",
    "print(\"Serie con números de un digito: \", serieUnidadCongAditivo)\n",
    "\n",
    "print(\"---------------------------------\")"
   ]
  },
  {
   "cell_type": "code",
   "execution_count": 12,
   "metadata": {},
   "outputs": [],
   "source": [
    "#Congruencias Multiplicativo\n",
    "# paramC = 0\n",
    "# paramK = no se utiliza\n",
    "# v2 = no se utiliza\n",
    "\n",
    "def generadorCongruenciasMultiplicativo(v1, paramA, paramM, cantidadGenerar):\n",
    "    serie = []\n",
    "    while (len(serie) <= cantidadGenerar):\n",
    "        v3 = (paramA * v1) % paramM\n",
    "        serie.append(v3)\n",
    "        v1 = v3\n",
    "    return serie"
   ]
  },
  {
   "cell_type": "code",
   "execution_count": 13,
   "metadata": {},
   "outputs": [
    {
     "name": "stdout",
     "output_type": "stream",
     "text": [
      "Método de Congruencias: Multiplicativo\n",
      "Serie completa:  [614, 214, 814, 414, 14, 614, 214, 814, 414, 14, 614, 214, 814, 414, 14, 614, 214, 814, 414, 14, 614]\n",
      "Serie con números de un digito:  [6, 1, 4, 2, 1, 4, 8, 1, 4, 4, 1, 4, 1, 4, 6, 1, 4, 2, 1, 4, 8, 1, 4, 4, 1, 4, 1, 4, 6, 1, 4, 2, 1, 4, 8, 1, 4, 4, 1, 4, 1, 4, 6, 1, 4, 2, 1, 4, 8, 1, 4, 4, 1, 4, 1, 4, 6, 1, 4]\n",
      "---------------------------------\n"
     ]
    }
   ],
   "source": [
    "print(\"Método de Congruencias: Multiplicativo\")\n",
    "\n",
    "v1 = 14\n",
    "paramA = 7901\n",
    "paramM = 1000\n",
    "cantidadGenerar = 20\n",
    "\n",
    "serieCongMultiplicativo = generadorCongruenciasMultiplicativo(v1, paramA, paramM, cantidadGenerar)\n",
    "print(\"Serie completa: \", serieCongMultiplicativo)\n",
    "\n",
    "serieUnidadCongMultiplicativo = obtenerDigitos(serieCongMultiplicativo)\n",
    "print(\"Serie con números de un digito: \", serieUnidadCongMultiplicativo)\n",
    "\n",
    "print(\"---------------------------------\")"
   ]
  },
  {
   "cell_type": "code",
   "execution_count": 14,
   "metadata": {},
   "outputs": [],
   "source": [
    "#Congruencias Mixto\n",
    "# paramK = no se utiliza\n",
    "# v2 = no se utiliza\n",
    "\n",
    "def generadorCongruenciasMixto(v1, paramA, paramC, paramM, cantidadGenerar):\n",
    "    serie = []\n",
    "    while (len(serie) <= cantidadGenerar):\n",
    "        v3 = (paramA * v1 + paramC) % paramM\n",
    "        serie.append(v3)\n",
    "        v1 = v3\n",
    "\n",
    "    return serie"
   ]
  },
  {
   "cell_type": "code",
   "execution_count": 15,
   "metadata": {},
   "outputs": [
    {
     "name": "stdout",
     "output_type": "stream",
     "text": [
      "Método de Congruencias: Mixto\n",
      "Serie completa:  [639, 514, 139, 14, 639, 514, 139, 14, 639, 514, 139, 14, 639, 514, 139, 14, 639, 514, 139, 14, 639, 514, 139, 14, 639, 514, 139, 14, 639, 514, 139, 14, 639, 514, 139, 14, 639, 514, 139, 14, 639, 514, 139, 14, 639, 514, 139, 14, 639, 514, 139, 14, 639, 514, 139, 14, 639, 514, 139, 14, 639, 514, 139, 14, 639, 514, 139, 14, 639, 514, 139, 14, 639, 514, 139, 14, 639, 514, 139, 14, 639, 514, 139, 14, 639, 514, 139, 14, 639, 514, 139, 14, 639, 514, 139, 14, 639, 514, 139, 14, 639]\n",
      "Serie con números de un digito:  [6, 3, 9, 5, 1, 4, 1, 3, 9, 1, 4, 6, 3, 9, 5, 1, 4, 1, 3, 9, 1, 4, 6, 3, 9, 5, 1, 4, 1, 3, 9, 1, 4, 6, 3, 9, 5, 1, 4, 1, 3, 9, 1, 4, 6, 3, 9, 5, 1, 4, 1, 3, 9, 1, 4, 6, 3, 9, 5, 1, 4, 1, 3, 9, 1, 4, 6, 3, 9, 5, 1, 4, 1, 3, 9, 1, 4, 6, 3, 9, 5, 1, 4, 1, 3, 9, 1, 4, 6, 3, 9, 5, 1, 4, 1, 3, 9, 1, 4, 6, 3, 9, 5, 1, 4, 1, 3, 9, 1, 4, 6, 3, 9, 5, 1, 4, 1, 3, 9, 1, 4, 6, 3, 9, 5, 1, 4, 1, 3, 9, 1, 4, 6, 3, 9, 5, 1, 4, 1, 3, 9, 1, 4, 6, 3, 9, 5, 1, 4, 1, 3, 9, 1, 4, 6, 3, 9, 5, 1, 4, 1, 3, 9, 1, 4, 6, 3, 9, 5, 1, 4, 1, 3, 9, 1, 4, 6, 3, 9, 5, 1, 4, 1, 3, 9, 1, 4, 6, 3, 9, 5, 1, 4, 1, 3, 9, 1, 4, 6, 3, 9, 5, 1, 4, 1, 3, 9, 1, 4, 6, 3, 9, 5, 1, 4, 1, 3, 9, 1, 4, 6, 3, 9, 5, 1, 4, 1, 3, 9, 1, 4, 6, 3, 9, 5, 1, 4, 1, 3, 9, 1, 4, 6, 3, 9, 5, 1, 4, 1, 3, 9, 1, 4, 6, 3, 9, 5, 1, 4, 1, 3, 9, 1, 4, 6, 3, 9, 5, 1, 4, 1, 3, 9, 1, 4, 6, 3, 9]\n",
      "---------------------------------\n"
     ]
    }
   ],
   "source": [
    "print(\"Método de Congruencias: Mixto\")\n",
    "\n",
    "v1 = 14\n",
    "paramA = 3243\n",
    "paramC = 237\n",
    "paramM = 1000\n",
    "cantidadGenerar = 100\n",
    "\n",
    "serieCongMixto = generadorCongruenciasMixto(v1, paramA, paramC, paramM, cantidadGenerar)\n",
    "print(\"Serie completa: \", serieCongMixto)\n",
    "\n",
    "serieUnidadCongMixto = obtenerDigitos(serieCongMixto)\n",
    "print(\"Serie con números de un digito: \", serieUnidadCongMixto)\n",
    "\n",
    "print(\"---------------------------------\")"
   ]
  },
  {
   "cell_type": "markdown",
   "metadata": {},
   "source": [
    "## Pruebas estadísticas para series de números aleatorios\n",
    "\n",
    "### Test de Chi-cuadrado\n",
    "\n",
    "![formula](test-chi-cuadrado.png)"
   ]
  },
  {
   "cell_type": "code",
   "execution_count": 16,
   "metadata": {},
   "outputs": [],
   "source": [
    "#Test de Chi-Cuadrada\n",
    "\n",
    "# Constantes para no cargar la tabla completa (por ahora)\n",
    "valoresGL9 = {\n",
    "    0.01 : 12.43,\n",
    "    0.05 : 11.32\n",
    "    }\n",
    "\n",
    "valoresGL2 = {\n",
    "    0.01 : 0.0,\n",
    "    0.05 : 0.0\n",
    "    }\n",
    "\n",
    "def testChiCuadrado(serieNumeros,cantidadDigitos,margenError):\n",
    "    print(serieNumeros)\n",
    "    frecuenciaObservada = [0] * cantidadDigitos\n",
    "    \n",
    "    for num in serieNumeros:\n",
    "        frecuenciaObservada[num] += 1\n",
    "    \n",
    "    frecuenciaTeorica = len(serieNumeros) / cantidadDigitos\n",
    "    gradosLibertad = cantidadDigitos - 1\n",
    "    chi = 0\n",
    "    for valor in frecuenciaObservada:\n",
    "        numerador = (valor - frecuenciaTeorica) ** 2\n",
    "        chi += (numerador / frecuenciaTeorica)\n",
    "    \n",
    "    if (gradosLibertad == 9):\n",
    "        # Chi cuadrado tradicional\n",
    "        if valoresGL9[margenError] >= chi:\n",
    "            return True\n",
    "    elif (gradosLibertad == 2):\n",
    "        # Monobits\n",
    "        if valoresGL2[margenError] >= chi:\n",
    "            return True\n",
    "    else:\n",
    "        return False"
   ]
  },
  {
   "cell_type": "code",
   "execution_count": 17,
   "metadata": {
    "scrolled": true
   },
   "outputs": [
    {
     "name": "stdout",
     "output_type": "stream",
     "text": [
      "Verificación de las series de números generadas con el método de Chi-Cuadrada\n",
      "[6, 1, 4, 2, 1, 4, 8, 1, 4, 4, 1, 4, 1, 4, 6, 1, 4, 2, 1, 4, 8, 1, 4, 4, 1, 4, 1, 4, 6, 1, 4, 2, 1, 4, 8, 1, 4, 4, 1, 4, 1, 4, 6, 1, 4, 2, 1, 4, 8, 1, 4, 4, 1, 4, 1, 4, 6, 1, 4]\n",
      "Resultado de la evaluación del método:  desaprobado\n"
     ]
    }
   ],
   "source": [
    "print(\"Verificación de las series de números generadas con el método de Chi-Cuadrada\")\n",
    "\n",
    "cantidadSimbolos = 10\n",
    "error = 0.01\n",
    "\n",
    "if (testChiCuadrado(serieUnidadCongMultiplicativo,cantidadSimbolos, error)):\n",
    "    resultado = \"aprobado\"\n",
    "else:\n",
    "    resultado = \"desaprobado\"\n",
    "\n",
    "print(\"Resultado de la evaluación del método: \", resultado)"
   ]
  }
 ],
 "metadata": {
  "kernelspec": {
   "display_name": "Python 3",
   "language": "python",
   "name": "python3"
  },
  "language_info": {
   "codemirror_mode": {
    "name": "ipython",
    "version": 3
   },
   "file_extension": ".py",
   "mimetype": "text/x-python",
   "name": "python",
   "nbconvert_exporter": "python",
   "pygments_lexer": "ipython3",
   "version": "3.8.10"
  }
 },
 "nbformat": 4,
 "nbformat_minor": 2
}
