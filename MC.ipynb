{
 "cells": [
  {
   "cell_type": "code",
   "execution_count": 14,
   "metadata": {},
   "outputs": [],
   "source": [
    "#rangos_temperatura = [[-5, 2], [3, 15] [16, 30], [30, 45]]"
   ]
  },
  {
   "cell_type": "code",
   "execution_count": 23,
   "metadata": {},
   "outputs": [
    {
     "name": "stdout",
     "output_type": "stream",
     "text": [
      "Suma de Px = 1.0\n",
      "Px = [0.07, 0.25, 0.3, 0.38]\n"
     ]
    }
   ],
   "source": [
    "px = [0.07, 0.25, 0.3, 0.38]\n",
    "\n",
    "tot = 0\n",
    "for p in px:\n",
    "    tot += p\n",
    "    \n",
    "print(f\"Suma de Px = {tot}\")\n",
    "print(f\"Px = {px}\")"
   ]
  },
  {
   "cell_type": "code",
   "execution_count": 21,
   "metadata": {},
   "outputs": [
    {
     "name": "stdout",
     "output_type": "stream",
     "text": [
      "Pac = [0.0, 0.07, 0.08, 0.32, 0.33, 0.62, 0.63, 1.0]\n"
     ]
    }
   ],
   "source": [
    "st = 0.0\n",
    "rangos = []\n",
    "rangos.append(st)\n",
    "for p in px:\n",
    "    st += p\n",
    "    rangos.append(st)\n",
    "    rangos.append(st + 0.01)\n",
    "\n",
    "rangos = rangos[:-1] # se elimina el último\n",
    "print(f\"Pac = {rangos}\")"
   ]
  },
  {
   "cell_type": "code",
   "execution_count": 20,
   "metadata": {},
   "outputs": [
    {
     "name": "stdout",
     "output_type": "stream",
     "text": [
      "MC = ['A', 'B', 'C', 'D']\n"
     ]
    }
   ],
   "source": [
    "tags = ['A', 'B', 'C', 'D']\n",
    "\n",
    "print(f\"MC = {tags}\")"
   ]
  },
  {
   "cell_type": "code",
   "execution_count": 26,
   "metadata": {},
   "outputs": [
    {
     "data": {
      "text/plain": [
       "[0.17, 0.48, 0.67, 0.34, 0.56, 0.65, 0.34, 0.9, 0.12, 0.34]"
      ]
     },
     "execution_count": 26,
     "metadata": {},
     "output_type": "execute_result"
    }
   ],
   "source": [
    "sec = [17, 48, 67, 34, 56, 65, 34, 90, 12, 34]\n",
    "sec_adapt = []\n",
    "for ss in sec:\n",
    "    sec_adapt.append(ss / 100)\n",
    "\n",
    "sec_adapt"
   ]
  },
  {
   "cell_type": "code",
   "execution_count": 28,
   "metadata": {},
   "outputs": [
    {
     "data": {
      "text/plain": [
       "0.5142857142857142"
      ]
     },
     "execution_count": 28,
     "metadata": {},
     "output_type": "execute_result"
    }
   ],
   "source": [
    "import math \n",
    "\n",
    "# P(x = 2) --> Hipergeométrica\n",
    "\n",
    "num1 = math.factorial(3)\n",
    "den1 = math.factorial(2) * math.factorial(1)\n",
    "\n",
    "res1 = num1 / den1\n",
    "\n",
    "num2 = math.factorial(4)\n",
    "den2 = math.factorial(2) * math.factorial(2)\n",
    "\n",
    "res2 = num2 / den2\n",
    "\n",
    "numerador = res1 * res2\n",
    "\n",
    "num3 = math.factorial(7)\n",
    "den3 = math.factorial(4) * math.factorial(3)\n",
    "\n",
    "res3 = num3 / den3\n",
    "\n",
    "denominador = res3\n",
    "\n",
    "final = numerador / denominador\n",
    "final"
   ]
  },
  {
   "cell_type": "code",
   "execution_count": 31,
   "metadata": {},
   "outputs": [
    {
     "data": {
      "text/plain": [
       "0.01375396774400299"
      ]
     },
     "execution_count": 31,
     "metadata": {},
     "output_type": "execute_result"
    }
   ],
   "source": [
    "#math.e\n",
    "math.pow(math.e, -8) * 41"
   ]
  },
  {
   "cell_type": "code",
   "execution_count": 37,
   "metadata": {},
   "outputs": [
    {
     "data": {
      "text/plain": [
       "5.1080000000000005"
      ]
     },
     "execution_count": 37,
     "metadata": {},
     "output_type": "execute_result"
    }
   ],
   "source": [
    "r = 0.632 + 0.776 + 0.864 + 0.917 + 0.950 + 0.969\n",
    "r"
   ]
  }
 ],
 "metadata": {
  "kernelspec": {
   "display_name": "Python 3",
   "language": "python",
   "name": "python3"
  },
  "language_info": {
   "codemirror_mode": {
    "name": "ipython",
    "version": 3
   },
   "file_extension": ".py",
   "mimetype": "text/x-python",
   "name": "python",
   "nbconvert_exporter": "python",
   "pygments_lexer": "ipython3",
   "version": "3.8.10"
  }
 },
 "nbformat": 4,
 "nbformat_minor": 4
}
