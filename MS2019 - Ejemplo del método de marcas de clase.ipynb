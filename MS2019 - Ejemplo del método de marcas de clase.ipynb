{
 "cells": [
  {
   "cell_type": "markdown",
   "metadata": {},
   "source": [
    "## Modelos y Simulación 2019\n",
    "### Método de Marcas de Clase - Ejemplo"
   ]
  },
  {
   "cell_type": "markdown",
   "metadata": {},
   "source": [
    "### Procedimiento\n",
    "\n",
    "1. Se debe iniciar por obtener o especificar las marcas de clase (categorías) en las que pueden organizarse los datos del sistema que se esté buscando simular.\n",
    "2. Se genera la tabla de frecuencias teóricas (probabilidades) de cada marca de clase y se calculan las correspondientes probabilidades acumuladas. Adicionalmente se especifican los valores de los números índices para cada marca de clase siguiendo alguno de los lineamientos disponibles: por rango de valores del dominio | por rango de probabilidades.\n",
    "3. Se genera con algún método una serie de números aleatorios que será usada para generar una muestra aleatoria.\n",
    "4. Se acotan los valores de la serie al rango que sea definido por el método a seguir (rango de valores | probabilidades).\n",
    "5. Se verifica dentro de qué grupo de valores de números índices cae cada valor de la serie. Se obtiene como resultado una muestra aleatoria.\n",
    "6. Se obtienen los valores de la frecuencia observada de los valores de la muestra y se comparan con los de la frecuencia / probabilidad teórica para que -al menos- las tendencias sean similares."
   ]
  },
  {
   "cell_type": "markdown",
   "metadata": {},
   "source": [
    "### Descripción del escenario\n",
    "\n"
   ]
  },
  {
   "cell_type": "code",
   "execution_count": null,
   "metadata": {},
   "outputs": [],
   "source": []
  },
  {
   "cell_type": "code",
   "execution_count": 1,
   "metadata": {},
   "outputs": [
    {
     "name": "stdout",
     "output_type": "stream",
     "text": [
      "Método de Congruencias: Relac. Fundamental\n",
      "Serie completa:  [241, 633, 822, 468, 163, 279, 600, 922, 685, 725, 778, 576, 807, 971, 356, 430, 33, 578, 360, 244, 41, 380, 140, 226, 673, 214, 896, 976, 729, 480, 828, 94, 601, 337, 171, 165, 38, 974, 902, 384, 791, 135, 413, 807, 868, 964, 296, 90, 693, 150, 383, 864, 826, 120, 906, 990, 763, 514, 401, 4, 936, 620, 468, 794, 881, 533, 328, 576, 966, 498, 852, 806, 407, 723, 912, 708, 572, 256, 972, 458, 557, 610, 774, 330, 408, 598, 910, 668, 685, 84, 388, 568, 180, 628, 960, 814, 613, 989, 129, 937, 75]\n"
     ]
    }
   ],
   "source": [
    "#Congruencias Fundamental\n",
    "def generadorCongruenciasFundamental(v1, v2, paramA, paramC, paramK, paramM, cantidadGenerar):\n",
    "    serie = []\n",
    "    # Se generan los K primeros digitos que después se van a descartar\n",
    "    for x in range(paramK):\n",
    "        v3 = (paramA * v1 + paramC * v2) % paramM\n",
    "        serie.append(v3)\n",
    "        v1 = v3\n",
    "    \n",
    "    # Se hace la generación que en realidad se va a usar\n",
    "    while (len(serie) <= cantidadGenerar + paramK):\n",
    "        v2 = serie[len(serie) - paramK]\n",
    "        v3 = (paramA * v1 + paramC * v2) % paramM\n",
    "        serie.append(v3)\n",
    "        v1 = v3\n",
    "\n",
    "    # Se recorta la serie según el parámetro K\n",
    "    serieResultado = serie[paramK:]\n",
    "    return serieResultado\n",
    "\n",
    "print(\"Método de Congruencias: Relac. Fundamental\")\n",
    "\n",
    "v1 = 14\n",
    "v2 = 17\n",
    "paramA = 3243\n",
    "paramC = 23\n",
    "paramK = 16\n",
    "paramM = 1000\n",
    "cantidadGenerar = 100\n",
    "\n",
    "serieCongFundamental = generadorCongruenciasFundamental(v1, v2, paramA, paramC, paramK, paramM, cantidadGenerar)\n",
    "print(\"Serie completa: \", serieCongFundamental)"
   ]
  }
 ],
 "metadata": {
  "kernelspec": {
   "display_name": "Python 3",
   "language": "python",
   "name": "python3"
  },
  "language_info": {
   "codemirror_mode": {
    "name": "ipython",
    "version": 3
   },
   "file_extension": ".py",
   "mimetype": "text/x-python",
   "name": "python",
   "nbconvert_exporter": "python",
   "pygments_lexer": "ipython3",
   "version": "3.8.10"
  }
 },
 "nbformat": 4,
 "nbformat_minor": 2
}
